{
  "cells": [
    {
      "cell_type": "code",
      "execution_count": 1,
      "metadata": {
        "colab": {
          "base_uri": "https://localhost:8080/"
        },
        "id": "Jgf3oBppcW9Q",
        "outputId": "0b872c6c-7ca1-46f4-9712-597dc423cedb"
      },
      "outputs": [
        {
          "name": "stdout",
          "output_type": "stream",
          "text": [
            "Collecting pyomo\n",
            "  Downloading Pyomo-6.7.1-cp310-cp310-manylinux_2_17_x86_64.manylinux2014_x86_64.whl (12.7 MB)\n",
            "\u001b[2K     \u001b[90m━━━━━━━━━━━━━━━━━━━━━━━━━━━━━━━━━━━━━━━━\u001b[0m \u001b[32m12.7/12.7 MB\u001b[0m \u001b[31m21.5 MB/s\u001b[0m eta \u001b[36m0:00:00\u001b[0m\n",
            "\u001b[?25hCollecting ply (from pyomo)\n",
            "  Downloading ply-3.11-py2.py3-none-any.whl (49 kB)\n",
            "\u001b[2K     \u001b[90m━━━━━━━━━━━━━━━━━━━━━━━━━━━━━━━━━━━━━━━━\u001b[0m \u001b[32m49.6/49.6 kB\u001b[0m \u001b[31m3.9 MB/s\u001b[0m eta \u001b[36m0:00:00\u001b[0m\n",
            "\u001b[?25hInstalling collected packages: ply, pyomo\n",
            "Successfully installed ply-3.11 pyomo-6.7.1\n",
            "Selecting previously unselected package libsuitesparseconfig5:amd64.\n",
            "(Reading database ... 121752 files and directories currently installed.)\n",
            "Preparing to unpack .../libsuitesparseconfig5_1%3a5.10.1+dfsg-4build1_amd64.deb ...\n",
            "Unpacking libsuitesparseconfig5:amd64 (1:5.10.1+dfsg-4build1) ...\n",
            "Selecting previously unselected package libamd2:amd64.\n",
            "Preparing to unpack .../libamd2_1%3a5.10.1+dfsg-4build1_amd64.deb ...\n",
            "Unpacking libamd2:amd64 (1:5.10.1+dfsg-4build1) ...\n",
            "Selecting previously unselected package libcolamd2:amd64.\n",
            "Preparing to unpack .../libcolamd2_1%3a5.10.1+dfsg-4build1_amd64.deb ...\n",
            "Unpacking libcolamd2:amd64 (1:5.10.1+dfsg-4build1) ...\n",
            "Selecting previously unselected package libglpk40:amd64.\n",
            "Preparing to unpack .../libglpk40_5.0-1_amd64.deb ...\n",
            "Unpacking libglpk40:amd64 (5.0-1) ...\n",
            "Selecting previously unselected package glpk-utils.\n",
            "Preparing to unpack .../glpk-utils_5.0-1_amd64.deb ...\n",
            "Unpacking glpk-utils (5.0-1) ...\n",
            "Setting up libsuitesparseconfig5:amd64 (1:5.10.1+dfsg-4build1) ...\n",
            "Setting up libamd2:amd64 (1:5.10.1+dfsg-4build1) ...\n",
            "Setting up libcolamd2:amd64 (1:5.10.1+dfsg-4build1) ...\n",
            "Setting up libglpk40:amd64 (5.0-1) ...\n",
            "Setting up glpk-utils (5.0-1) ...\n",
            "Processing triggers for man-db (2.10.2-1) ...\n",
            "Processing triggers for libc-bin (2.35-0ubuntu3.4) ...\n",
            "/sbin/ldconfig.real: /usr/local/lib/libtbbbind_2_0.so.3 is not a symbolic link\n",
            "\n",
            "/sbin/ldconfig.real: /usr/local/lib/libtbbmalloc_proxy.so.2 is not a symbolic link\n",
            "\n",
            "/sbin/ldconfig.real: /usr/local/lib/libtbbbind_2_5.so.3 is not a symbolic link\n",
            "\n",
            "/sbin/ldconfig.real: /usr/local/lib/libtbbmalloc.so.2 is not a symbolic link\n",
            "\n",
            "/sbin/ldconfig.real: /usr/local/lib/libtbb.so.12 is not a symbolic link\n",
            "\n",
            "/sbin/ldconfig.real: /usr/local/lib/libtbbbind.so.3 is not a symbolic link\n",
            "\n"
          ]
        }
      ],
      "source": [
        "%pip install pyomo\n",
        "\n",
        "# %apt-get install -y -qq glpk-utils"
      ]
    },
    {
      "cell_type": "code",
      "execution_count": 6,
      "metadata": {
        "id": "XyERWXaQcmQj"
      },
      "outputs": [],
      "source": [
        "import pyomo.environ as pyo\n",
        "\n",
        "model = pyo.ConcreteModel()\n",
        "\n",
        "# * index and param\n",
        "model.i = pyo.Set(initialize=[1, 2, 3, 4, 5])\n",
        "model.p = pyo.Param(model.i, initialize={1: 40_000, 2: 30_000, 3: 60_000, 4: 0, 5: 0})\n",
        "\n",
        "# * D Variables\n",
        "model.x = pyo.Var(model.i, domain=pyo.NonNegativeIntegers)\n",
        "model.y = pyo.Var(model.i, domain=pyo.NonNegativeIntegers)\n",
        "model.a = pyo.Var(model.i, domain=pyo.NonNegativeIntegers)\n",
        "model.b = pyo.Var(model.i, domain=pyo.NonNegativeIntegers)\n",
        "model.c = pyo.Var(model.i, domain=pyo.NonNegativeIntegers)\n",
        "model.d = pyo.Var(model.i, domain=pyo.NonNegativeIntegers)\n",
        "\n",
        "model.obj = pyo.Objective(\n",
        "    expr=200 * sum((model.x[i] + model.y[i]) for i in model.i), sense=pyo.minimize\n",
        ")\n",
        "\n",
        "\n",
        "# * Constraints\n",
        "def const1_rule(model, i):\n",
        "    return model.a[i] <= model.x[i] * 40 * 4\n",
        "\n",
        "\n",
        "model.const1 = pyo.Constraint(model.i, rule=const1_rule)\n",
        "\n",
        "\n",
        "def const2_rule(model, i):\n",
        "    return model.b[i] <= model.y[i] * 40 * 6\n",
        "\n",
        "\n",
        "model.const2 = pyo.Constraint(model.i, rule=const2_rule)\n",
        "\n",
        "# * Preprocess Constraints\n",
        "model.const3 = pyo.Constraint(expr=model.p[1] == model.a[1] + model.c[1])\n",
        "model.const4 = pyo.Constraint(expr=model.p[2] + model.c[1] == model.a[2] + model.c[2])\n",
        "model.const5 = pyo.Constraint(expr=model.p[3] + model.c[2] == model.a[3] + model.c[3])\n",
        "model.const6 = pyo.Constraint(expr=model.p[4] + model.c[3] == model.a[4] + model.c[4])\n",
        "model.const7 = pyo.Constraint(expr=model.p[5] + model.c[4] == model.a[5] + model.c[5])\n",
        "model.const8 = pyo.Constraint(expr=model.c[5] == 0)\n",
        "\n",
        "# * Save Constraints\n",
        "model.const9 = pyo.Constraint(expr=model.a[1] == model.b[1] + model.d[1])\n",
        "model.const10 = pyo.Constraint(expr=model.a[2] + model.d[1] == model.b[2] + model.d[2])\n",
        "model.const11 = pyo.Constraint(expr=model.a[3] + model.d[2] == model.b[3] + model.d[3])\n",
        "model.const12 = pyo.Constraint(expr=model.a[4] + model.d[3] == model.b[4] + model.d[4])\n",
        "model.const13 = pyo.Constraint(expr=model.a[5] + model.d[4] == model.b[5] + model.d[5])\n",
        "model.const14 = pyo.Constraint(expr=model.d[5] == 0)"
      ]
    },
    {
      "cell_type": "code",
      "execution_count": 15,
      "metadata": {
        "colab": {
          "base_uri": "https://localhost:8080/"
        },
        "id": "jYBPj4kkcd5T",
        "outputId": "54fd7258-b73e-4bdd-fdd3-c018d7fc8f8d"
      },
      "outputs": [
        {
          "name": "stdout",
          "output_type": "stream",
          "text": [
            "Solver's status: ok\n",
            "Solver's termination condition: optimal\n",
            "\n",
            "Optimal Solution:\n",
            "x1 = 0.0\n",
            "x2 = 0.0\n",
            "x3 = 0.0\n",
            "x4 = 0.0\n",
            "x5 = 813.0\n",
            "\n",
            "y1 = 0.0\n",
            "y2 = 0.0\n",
            "y3 = 0.0\n",
            "y4 = 0.0\n",
            "y5 = 542.0\n",
            "\n",
            "a1 = 0.0\n",
            "a2 = 0.0\n",
            "a3 = 0.0\n",
            "a4 = 0.0\n",
            "a5 = 130000.0\n",
            "\n",
            "b1 = 0.0\n",
            "b2 = 0.0\n",
            "b3 = 0.0\n",
            "b4 = 0.0\n",
            "b5 = 130000.0\n",
            "\n",
            "c1 = 40000.0\n",
            "c2 = 70000.0\n",
            "c3 = 130000.0\n",
            "c4 = 130000.0\n",
            "c5 = 0.0\n",
            "\n",
            "d1 = 0.0\n",
            "d2 = 0.0\n",
            "d3 = 0.0\n",
            "d4 = 0.0\n",
            "d5 = 0.0\n",
            "\n",
            "Objective function's value (z) = 271000.0\n"
          ]
        }
      ],
      "source": [
        "solver = pyo.SolverFactory(\"glpk\", executable=\"/usr/bin/glpsol\")\n",
        "\n",
        "result = solver.solve(model)\n",
        "\n",
        "print(\"Solver's status:\", result.solver.status)\n",
        "\n",
        "print(\"Solver's termination condition:\", result.solver.termination_condition)\n",
        "\n",
        "print(\"\\nOptimal Solution:\")\n",
        "for i in model.i:\n",
        "    print(f\"x{i} =\", model.x[i]())\n",
        "\n",
        "print()\n",
        "\n",
        "for i in model.i:\n",
        "    print(f\"y{i} =\", model.y[i]())\n",
        "\n",
        "print()\n",
        "for i in model.i:\n",
        "    print(f\"a{i} =\", model.a[i]())\n",
        "print()\n",
        "for i in model.i:\n",
        "    print(f\"b{i} =\", model.b[i]())\n",
        "print()\n",
        "for i in model.i:\n",
        "    print(f\"c{i} =\", model.c[i]())\n",
        "print()\n",
        "for i in model.i:\n",
        "    print(f\"d{i} =\", model.d[i]())\n",
        "print()\n",
        "print(\"Objective function's value (z) =\", model.obj())"
      ]
    }
  ],
  "metadata": {
    "colab": {
      "provenance": []
    },
    "kernelspec": {
      "display_name": "Python 3",
      "name": "python3"
    },
    "language_info": {
      "name": "python"
    }
  },
  "nbformat": 4,
  "nbformat_minor": 0
}
